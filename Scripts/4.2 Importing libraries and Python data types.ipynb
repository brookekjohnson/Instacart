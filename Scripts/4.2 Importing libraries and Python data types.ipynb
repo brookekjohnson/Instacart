{
 "cells": [
  {
   "cell_type": "markdown",
   "id": "fe899c3f",
   "metadata": {},
   "source": [
    "#01.Importing Libraries"
   ]
  },
  {
   "cell_type": "code",
   "execution_count": 3,
   "id": "682ce2b8",
   "metadata": {},
   "outputs": [],
   "source": [
    "# Import libraries\n",
    "import pandas as pd\n",
    "import numpy as np\n",
    "import os"
   ]
  },
  {
   "cell_type": "markdown",
   "id": "cd1b3366",
   "metadata": {},
   "source": [
    "#02. Python Data Types"
   ]
  },
  {
   "cell_type": "code",
   "execution_count": 19,
   "id": "18215562",
   "metadata": {},
   "outputs": [],
   "source": [
    "x = 25"
   ]
  },
  {
   "cell_type": "code",
   "execution_count": 20,
   "id": "935f719f",
   "metadata": {},
   "outputs": [],
   "source": [
    "y = 75"
   ]
  },
  {
   "cell_type": "code",
   "execution_count": 21,
   "id": "dba6d124",
   "metadata": {},
   "outputs": [],
   "source": [
    "z = 125"
   ]
  },
  {
   "cell_type": "code",
   "execution_count": 26,
   "id": "433f2b70",
   "metadata": {},
   "outputs": [],
   "source": [
    "p = 225"
   ]
  },
  {
   "cell_type": "code",
   "execution_count": 23,
   "id": "b3a51a52",
   "metadata": {},
   "outputs": [
    {
     "data": {
      "text/plain": [
       "100"
      ]
     },
     "execution_count": 23,
     "metadata": {},
     "output_type": "execute_result"
    }
   ],
   "source": [
    "x + y"
   ]
  },
  {
   "cell_type": "code",
   "execution_count": 24,
   "id": "da9904e8",
   "metadata": {},
   "outputs": [
    {
     "data": {
      "text/plain": [
       "100"
      ]
     },
     "execution_count": 24,
     "metadata": {},
     "output_type": "execute_result"
    }
   ],
   "source": [
    "z - x"
   ]
  },
  {
   "cell_type": "code",
   "execution_count": 27,
   "id": "22090938",
   "metadata": {},
   "outputs": [
    {
     "data": {
      "text/plain": [
       "100"
      ]
     },
     "execution_count": 27,
     "metadata": {},
     "output_type": "execute_result"
    }
   ],
   "source": [
    "p - z"
   ]
  },
  {
   "cell_type": "code",
   "execution_count": 28,
   "id": "f97bd215",
   "metadata": {},
   "outputs": [],
   "source": [
    "t = 62.86"
   ]
  },
  {
   "cell_type": "code",
   "execution_count": 29,
   "id": "6c0ab91f",
   "metadata": {},
   "outputs": [],
   "source": [
    "r = 2.5"
   ]
  },
  {
   "cell_type": "code",
   "execution_count": 30,
   "id": "3f141c5c",
   "metadata": {},
   "outputs": [
    {
     "data": {
      "text/plain": [
       "25.144"
      ]
     },
     "execution_count": 30,
     "metadata": {},
     "output_type": "execute_result"
    }
   ],
   "source": [
    "t / r"
   ]
  },
  {
   "cell_type": "code",
   "execution_count": 31,
   "id": "94c4f88c",
   "metadata": {},
   "outputs": [],
   "source": [
    "d = 'door'"
   ]
  },
  {
   "cell_type": "code",
   "execution_count": 48,
   "id": "14f2bb9f",
   "metadata": {},
   "outputs": [],
   "source": [
    "k = 'knob.'"
   ]
  },
  {
   "cell_type": "code",
   "execution_count": 33,
   "id": "cf145bfc",
   "metadata": {},
   "outputs": [
    {
     "data": {
      "text/plain": [
       "'doorknob'"
      ]
     },
     "execution_count": 33,
     "metadata": {},
     "output_type": "execute_result"
    }
   ],
   "source": [
    "d + k"
   ]
  },
  {
   "cell_type": "code",
   "execution_count": 43,
   "id": "8657c836",
   "metadata": {},
   "outputs": [],
   "source": [
    "a = 'I '"
   ]
  },
  {
   "cell_type": "code",
   "execution_count": 50,
   "id": "40f8e536",
   "metadata": {},
   "outputs": [],
   "source": [
    "b = 'Turn '"
   ]
  },
  {
   "cell_type": "code",
   "execution_count": 47,
   "id": "de061f94",
   "metadata": {},
   "outputs": [],
   "source": [
    "c = 'the '"
   ]
  },
  {
   "cell_type": "code",
   "execution_count": 51,
   "id": "3e86e95b",
   "metadata": {},
   "outputs": [
    {
     "data": {
      "text/plain": [
       "'Turn the doorknob.'"
      ]
     },
     "execution_count": 51,
     "metadata": {},
     "output_type": "execute_result"
    }
   ],
   "source": [
    "b + c + d + k"
   ]
  },
  {
   "cell_type": "code",
   "execution_count": 44,
   "id": "ef12fe1b",
   "metadata": {},
   "outputs": [],
   "source": [
    "e = 'am '"
   ]
  },
  {
   "cell_type": "code",
   "execution_count": 41,
   "id": "1e64640e",
   "metadata": {},
   "outputs": [],
   "source": [
    "h = 'human.'"
   ]
  },
  {
   "cell_type": "code",
   "execution_count": 45,
   "id": "656a587a",
   "metadata": {},
   "outputs": [
    {
     "data": {
      "text/plain": [
       "'I am human.'"
      ]
     },
     "execution_count": 45,
     "metadata": {},
     "output_type": "execute_result"
    }
   ],
   "source": [
    "a + e + h"
   ]
  },
  {
   "cell_type": "code",
   "execution_count": null,
   "id": "518f4d62",
   "metadata": {},
   "outputs": [],
   "source": []
  }
 ],
 "metadata": {
  "kernelspec": {
   "display_name": "Python 3 (ipykernel)",
   "language": "python",
   "name": "python3"
  },
  "language_info": {
   "codemirror_mode": {
    "name": "ipython",
    "version": 3
   },
   "file_extension": ".py",
   "mimetype": "text/x-python",
   "name": "python",
   "nbconvert_exporter": "python",
   "pygments_lexer": "ipython3",
   "version": "3.9.12"
  }
 },
 "nbformat": 4,
 "nbformat_minor": 5
}
